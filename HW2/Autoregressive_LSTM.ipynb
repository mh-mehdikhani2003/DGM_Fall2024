{
  "cells": [
    {
      "cell_type": "markdown",
      "metadata": {
        "id": "gOZpPDTIh-RO"
      },
      "source": [
        "# Import & Config"
      ]
    },
    {
      "cell_type": "code",
      "execution_count": 1,
      "metadata": {
        "id": "vWzundbcwibK",
        "colab": {
          "base_uri": "https://localhost:8080/"
        },
        "outputId": "d4816dc4-47a7-40de-d76f-237a573757ff"
      },
      "outputs": [
        {
          "output_type": "stream",
          "name": "stdout",
          "text": [
            "Requirement already satisfied: hazm in /usr/local/lib/python3.10/dist-packages (0.10.0)\n",
            "Requirement already satisfied: fasttext-wheel<0.10.0,>=0.9.2 in /usr/local/lib/python3.10/dist-packages (from hazm) (0.9.2)\n",
            "Requirement already satisfied: flashtext<3.0,>=2.7 in /usr/local/lib/python3.10/dist-packages (from hazm) (2.7)\n",
            "Requirement already satisfied: gensim<5.0.0,>=4.3.1 in /usr/local/lib/python3.10/dist-packages (from hazm) (4.3.3)\n",
            "Requirement already satisfied: nltk<4.0.0,>=3.8.1 in /usr/local/lib/python3.10/dist-packages (from hazm) (3.9.1)\n",
            "Requirement already satisfied: numpy==1.24.3 in /usr/local/lib/python3.10/dist-packages (from hazm) (1.24.3)\n",
            "Requirement already satisfied: python-crfsuite<0.10.0,>=0.9.9 in /usr/local/lib/python3.10/dist-packages (from hazm) (0.9.11)\n",
            "Requirement already satisfied: scikit-learn<2.0.0,>=1.2.2 in /usr/local/lib/python3.10/dist-packages (from hazm) (1.5.2)\n",
            "Requirement already satisfied: pybind11>=2.2 in /usr/local/lib/python3.10/dist-packages (from fasttext-wheel<0.10.0,>=0.9.2->hazm) (2.13.6)\n",
            "Requirement already satisfied: setuptools>=0.7.0 in /usr/local/lib/python3.10/dist-packages (from fasttext-wheel<0.10.0,>=0.9.2->hazm) (75.1.0)\n",
            "Requirement already satisfied: scipy<1.14.0,>=1.7.0 in /usr/local/lib/python3.10/dist-packages (from gensim<5.0.0,>=4.3.1->hazm) (1.13.1)\n",
            "Requirement already satisfied: smart-open>=1.8.1 in /usr/local/lib/python3.10/dist-packages (from gensim<5.0.0,>=4.3.1->hazm) (7.0.5)\n",
            "Requirement already satisfied: click in /usr/local/lib/python3.10/dist-packages (from nltk<4.0.0,>=3.8.1->hazm) (8.1.7)\n",
            "Requirement already satisfied: joblib in /usr/local/lib/python3.10/dist-packages (from nltk<4.0.0,>=3.8.1->hazm) (1.4.2)\n",
            "Requirement already satisfied: regex>=2021.8.3 in /usr/local/lib/python3.10/dist-packages (from nltk<4.0.0,>=3.8.1->hazm) (2024.9.11)\n",
            "Requirement already satisfied: tqdm in /usr/local/lib/python3.10/dist-packages (from nltk<4.0.0,>=3.8.1->hazm) (4.66.6)\n",
            "Requirement already satisfied: threadpoolctl>=3.1.0 in /usr/local/lib/python3.10/dist-packages (from scikit-learn<2.0.0,>=1.2.2->hazm) (3.5.0)\n",
            "Requirement already satisfied: wrapt in /usr/local/lib/python3.10/dist-packages (from smart-open>=1.8.1->gensim<5.0.0,>=4.3.1->hazm) (1.16.0)\n"
          ]
        }
      ],
      "source": [
        "!pip install hazm"
      ]
    },
    {
      "cell_type": "code",
      "execution_count": 2,
      "metadata": {
        "id": "kZ_pLA5ch-EH"
      },
      "outputs": [],
      "source": [
        "import pandas as pd\n",
        "import numpy as np\n",
        "\n",
        "import torch\n",
        "import torch.nn as nn\n",
        "from torch.autograd import Variable # This package has predefined gradient and derivative functions\n",
        "\n",
        "import string\n",
        "import re"
      ]
    },
    {
      "cell_type": "code",
      "execution_count": 3,
      "metadata": {
        "colab": {
          "base_uri": "https://localhost:8080/"
        },
        "id": "TKPX0enHh4tO",
        "outputId": "309987ba-14f2-4501-fb3e-9667242cb66e"
      },
      "outputs": [
        {
          "output_type": "stream",
          "name": "stdout",
          "text": [
            "CUDA is available! Training on GPU ...\n"
          ]
        }
      ],
      "source": [
        "# Check if CUDA is available\n",
        "train_on_gpu = torch.cuda.is_available()\n",
        "\n",
        "device =  torch.device('cuda' if train_on_gpu else 'cpu')\n",
        "\n",
        "if not train_on_gpu:\n",
        "    print('CUDA is not available. Training on CPU ...')\n",
        "else:\n",
        "    print('CUDA is available! Training on GPU ...')"
      ]
    },
    {
      "cell_type": "code",
      "execution_count": 5,
      "metadata": {
        "colab": {
          "base_uri": "https://localhost:8080/"
        },
        "id": "FTnaaTZ-m-LO",
        "outputId": "331487cb-bf0e-4ef4-e5db-b44f6d32fcde"
      },
      "outputs": [
        {
          "output_type": "stream",
          "name": "stdout",
          "text": [
            "Mounted at /content/drive\n"
          ]
        }
      ],
      "source": [
        "from google.colab import drive\n",
        "drive.mount('/content/drive')"
      ]
    },
    {
      "cell_type": "markdown",
      "metadata": {
        "id": "bCRLSorjiA7u"
      },
      "source": [
        "# Data"
      ]
    },
    {
      "cell_type": "code",
      "execution_count": null,
      "metadata": {
        "id": "ofvHKu4H1Mzg"
      },
      "outputs": [],
      "source": [
        "#-------------------------------------------------------------------#"
      ]
    },
    {
      "cell_type": "markdown",
      "metadata": {
        "id": "KGufZEgsmxla"
      },
      "source": [
        "## Download dataset from Kaggle"
      ]
    },
    {
      "cell_type": "code",
      "execution_count": 6,
      "metadata": {
        "colab": {
          "base_uri": "https://localhost:8080/"
        },
        "id": "lAA68WdTm1qW",
        "outputId": "d88534aa-7df7-4f0a-88c0-fbdf0a27c358"
      },
      "outputs": [
        {
          "output_type": "stream",
          "name": "stdout",
          "text": [
            "Requirement already satisfied: kaggle in /usr/local/lib/python3.10/dist-packages (1.6.17)\n",
            "Requirement already satisfied: six>=1.10 in /usr/local/lib/python3.10/dist-packages (from kaggle) (1.16.0)\n",
            "Requirement already satisfied: certifi>=2023.7.22 in /usr/local/lib/python3.10/dist-packages (from kaggle) (2024.8.30)\n",
            "Requirement already satisfied: python-dateutil in /usr/local/lib/python3.10/dist-packages (from kaggle) (2.8.2)\n",
            "Requirement already satisfied: requests in /usr/local/lib/python3.10/dist-packages (from kaggle) (2.32.3)\n",
            "Requirement already satisfied: tqdm in /usr/local/lib/python3.10/dist-packages (from kaggle) (4.66.6)\n",
            "Requirement already satisfied: python-slugify in /usr/local/lib/python3.10/dist-packages (from kaggle) (8.0.4)\n",
            "Requirement already satisfied: urllib3 in /usr/local/lib/python3.10/dist-packages (from kaggle) (2.2.3)\n",
            "Requirement already satisfied: bleach in /usr/local/lib/python3.10/dist-packages (from kaggle) (6.2.0)\n",
            "Requirement already satisfied: webencodings in /usr/local/lib/python3.10/dist-packages (from bleach->kaggle) (0.5.1)\n",
            "Requirement already satisfied: text-unidecode>=1.3 in /usr/local/lib/python3.10/dist-packages (from python-slugify->kaggle) (1.3)\n",
            "Requirement already satisfied: charset-normalizer<4,>=2 in /usr/local/lib/python3.10/dist-packages (from requests->kaggle) (3.4.0)\n",
            "Requirement already satisfied: idna<4,>=2.5 in /usr/local/lib/python3.10/dist-packages (from requests->kaggle) (3.10)\n"
          ]
        }
      ],
      "source": [
        "!pip install kaggle"
      ]
    },
    {
      "cell_type": "code",
      "execution_count": 7,
      "metadata": {
        "id": "e-mAJR0OnE6X",
        "colab": {
          "base_uri": "https://localhost:8080/"
        },
        "outputId": "8b87b6e9-6e2b-4905-8d0c-8266629f7c2a"
      },
      "outputs": [
        {
          "output_type": "stream",
          "name": "stdout",
          "text": [
            "cp: cannot stat './kaggle.json': No such file or directory\n",
            "chmod: cannot access '/root/.kaggle/kaggle.json': No such file or directory\n",
            "Dataset URL: https://www.kaggle.com/datasets/miladfa7/persian-wikipedia-dataset\n",
            "License(s): CC0-1.0\n",
            "Downloading Persian-WikiText-1.txt.zip to /content\n",
            "100% 27.5M/27.5M [00:02<00:00, 21.7MB/s]\n",
            "100% 27.5M/27.5M [00:02<00:00, 11.7MB/s]\n"
          ]
        }
      ],
      "source": [
        "!mkdir ~/.kaggle\n",
        "!cp ./kaggle.json ~/.kaggle/\n",
        "!chmod 600 ~/.kaggle/kaggle.json\n",
        "!kaggle datasets download miladfa7/persian-wikipedia-dataset -f Persian-WikiText-1.txt"
      ]
    },
    {
      "cell_type": "code",
      "execution_count": 8,
      "metadata": {
        "id": "sy4t4T4on0B-",
        "colab": {
          "base_uri": "https://localhost:8080/"
        },
        "outputId": "925e1838-ca32-4265-b5d1-cf482ac4db9f"
      },
      "outputs": [
        {
          "output_type": "stream",
          "name": "stdout",
          "text": [
            "Dataset URL: https://www.kaggle.com/datasets/miladfa7/persian-wikipedia-dataset\n",
            "License(s): CC0-1.0\n",
            "Persian-WikiText-1.txt.zip: Skipping, found more recently modified local copy (use --force to force download)\n"
          ]
        }
      ],
      "source": [
        "!kaggle datasets download miladfa7/persian-wikipedia-dataset -f Persian-WikiText-1.txt"
      ]
    },
    {
      "cell_type": "code",
      "execution_count": 9,
      "metadata": {
        "id": "HaKpHpSFpKBO",
        "colab": {
          "base_uri": "https://localhost:8080/"
        },
        "outputId": "26adf28a-a13e-4890-ebc6-9f8303d66a24"
      },
      "outputs": [
        {
          "output_type": "stream",
          "name": "stdout",
          "text": [
            "Dataset URL: https://www.kaggle.com/datasets/alioraji/persian-stop-words\n",
            "License(s): other\n",
            "Downloading Persian_Stop_Words.txt to /content\n",
            "  0% 0.00/45.5k [00:00<?, ?B/s]\n",
            "100% 45.5k/45.5k [00:00<00:00, 1.02MB/s]\n"
          ]
        }
      ],
      "source": [
        "!kaggle datasets download alioraji/persian-stop-words -f Persian_Stop_Words.txt"
      ]
    },
    {
      "cell_type": "code",
      "execution_count": 10,
      "metadata": {
        "id": "dp_tEGxnoRyu",
        "colab": {
          "base_uri": "https://localhost:8080/"
        },
        "outputId": "699a2ca7-d88b-4e29-ddb2-55e2475d963c"
      },
      "outputs": [
        {
          "output_type": "stream",
          "name": "stdout",
          "text": [
            "Archive:  Persian-WikiText-1.txt.zip\n",
            "  inflating: Persian-WikiText-1.txt  \n"
          ]
        }
      ],
      "source": [
        "!unzip Persian-WikiText-1.txt.zip"
      ]
    },
    {
      "cell_type": "markdown",
      "metadata": {
        "id": "chn9yFsOoySg"
      },
      "source": [
        "## Data Preprocessing"
      ]
    },
    {
      "cell_type": "code",
      "execution_count": 11,
      "metadata": {
        "colab": {
          "base_uri": "https://localhost:8080/"
        },
        "id": "nBolSs9-1Mzj",
        "outputId": "5ade65c4-684a-4852-b39e-eae57e631311"
      },
      "outputs": [
        {
          "output_type": "stream",
          "name": "stdout",
          "text": [
            "Sample cleaned text: عنوان مقاله صفحه اصلی templatestyles srcصفحه اصلی عنوان مقاله ویکی پدیا ویکی پدیا کوته نوشت به صورت وپ و WP یک دانشنامه برخط چندزبانه مبتنی بر وب با محتوای آزاد و همکاری باز است که با همکاری افراد داوطلب نوشته می شود و هر کسی که به اینترنت و وب دسترسی داشته باشد می تواند مقالات آن را ببیند و ویرایش کند. نام ویکی پدیا واژه ای ترکیبی است که از واژه های ویکی وبگاه مشارکتی و انسایکلوپدیا Encyclopedia دانشنامه یا دائرةالمعارف گرفته شده است. هدف ویکی پدیا آفرینش و انتشار جهانی یک دانشنامه با محتوای آز\n",
            "Tokens: ['<s>', 'این', 'یک', 'مثال', 'ساده', 'برای', 'توکن', 'ایز', 'کردن', 'است', '.', '</s>']\n",
            "IDs: [2, 1372, 1390, 2690, 3080, 1421, 27971, 4527, 1912, 1362, 5, 3]\n"
          ]
        }
      ],
      "source": [
        "\n",
        "wiki_file_path = \"Persian-WikiText-1.txt\"\n",
        "\n",
        "with open(wiki_file_path, 'r', encoding='utf-8') as file:\n",
        "    persian_text = file.read()\n",
        "\n",
        "\n",
        "import re\n",
        "def clean_text(text):\n",
        "\n",
        "    text = re.sub(r'[^\\w\\s،؟!.]', '', text)\n",
        "    text = re.sub(r'\\s+', ' ', text).strip()\n",
        "    return text\n",
        "\n",
        "\n",
        "cleaned_text = clean_text(persian_text)\n",
        "\n",
        "print(\"Sample cleaned text:\", cleaned_text[:500])\n",
        "\n",
        "# Tokenization using Byte-Pair Encoding (BPE)\n",
        "from tokenizers import Tokenizer, models, trainers, pre_tokenizers\n",
        "\n",
        "\n",
        "tokenizer = Tokenizer(models.BPE())\n",
        "tokenizer.pre_tokenizer = pre_tokenizers.Whitespace()\n",
        "\n",
        "\n",
        "trainer = trainers.BpeTrainer(vocab_size=30000, special_tokens=[\"<unk>\", \"<pad>\", \"<s>\", \"</s>\"])\n",
        "\n",
        "\n",
        "from tokenizers.processors import TemplateProcessing\n",
        "\n",
        "with open(\"cleaned_text.txt\", \"w\", encoding=\"utf-8\") as file:\n",
        "    file.write(cleaned_text)\n",
        "\n",
        "tokenizer.train([\"cleaned_text.txt\"], trainer)\n",
        "\n",
        "tokenizer.post_processor = TemplateProcessing(\n",
        "    single=\"<s> $A </s>\",\n",
        "    pair=\"<s> $A </s> </s> $B </s>\",\n",
        "    special_tokens=[\n",
        "        (\"<s>\", tokenizer.token_to_id(\"<s>\")),\n",
        "        (\"</s>\", tokenizer.token_to_id(\"</s>\")),\n",
        "    ],\n",
        ")\n",
        "\n",
        "tokenizer.save(\"persian_tokenizer.json\")\n",
        "\n",
        "example_text = \"این یک مثال ساده برای توکنایز کردن است.\"\n",
        "encoded = tokenizer.encode(example_text)\n",
        "\n",
        "print(\"Tokens:\", encoded.tokens)\n",
        "print(\"IDs:\", encoded.ids)\n"
      ]
    },
    {
      "cell_type": "markdown",
      "source": [
        ". کیفیت داده‌های ورودی مدل:\n",
        "\n",
        "داده‌های خام معمولاً شامل نویز (مانند کاراکترهای غیرضروری، فاصله‌های اضافی، یا کلمات غیرمرتبط) است. وجود نویز در داده‌ها می‌تواند به مشکلات زیر منجر شود:\n",
        "\n",
        "    کاهش دقت مدل.\n",
        "    افزایش زمان آموزش، زیرا مدل باید نویز را نیز پردازش کند.\n",
        "    یادگیری الگوهای نادرست از داده‌ها.\n",
        "\n",
        "به همین دلیل، حذف نویز و تمیز کردن داده‌ها تضمین می‌کند که مدل تنها اطلاعات مرتبط و مهم را پردازش می‌کند.\n",
        "2. کاهش پیچیدگی محاسباتی:\n",
        "\n",
        "    داده‌های تمیز و پیش‌پردازش‌شده اندازه‌ی کوچک‌تر و کارآمدتری دارند.\n",
        "    این امر باعث کاهش مصرف حافظه و زمان پردازش می‌شود و آموزش مدل سریع‌تر و بهینه‌تر انجام می‌گیرد.\n",
        "\n",
        "3. تناسب داده‌ها با مدل:\n",
        "\n",
        "مدل‌های زبانی مانند RNN برای پردازش داده‌های ساختاریافته و استاندارد طراحی شده‌اند. اگر داده‌ها شامل کاراکترهای خاص یا قالب‌های نامتعارف باشند، ممکن است مدل نتواند آن‌ها را به درستی تفسیر کند. بنابراین، تبدیل داده‌ها به فرمت مناسب (مانند توکنایز کردن) برای بهبود عملکرد مدل ضروری است.\n",
        "4. اثرگذاری نویز بر پیش‌بینی مدل:\n",
        "\n",
        "    اگر نویز در داده باقی بماند، مدل ممکن است آن را به‌عنوان الگوهای معنی‌دار یاد بگیرد.\n",
        "    این موضوع باعث می‌شود خروجی مدل قابل اطمینان نباشد و مدل به جای یادگیری مفاهیم مهم، روی جزئیات غیرضروری متمرکز شود."
      ],
      "metadata": {
        "id": "azkbmHX65b2A"
      }
    },
    {
      "cell_type": "markdown",
      "source": [
        "### *Byte Pair Encoding (BPE)**\n",
        "\n",
        "یک تکنیک برای توکنایز کردن متن است که کاراکترها و زیرواژه‌ها را برای کاهش اندازه داده‌ها ترکیب می‌کند.  \n",
        "\n",
        "---\n",
        "\n",
        "### **مراحل عملکرد:**\n",
        "1. **شروع با کاراکترهای منفرد:** متن به کوچک‌ترین واحدها (کاراکترها) شکسته می‌شود.\n",
        "2. **ادغام جفت‌های پرتکرار:** جفت‌هایی که بیشترین تکرار دارند، به توکن‌های جدید تبدیل می‌شوند.\n",
        "3. **تکرار فرآیند:** ادغام‌ها ادامه پیدا می‌کنند تا تعداد مشخصی از توکن‌ها ساخته شود.\n",
        "4. **ساخت دیکشنری:** لیستی از توکن‌های پرتکرار ایجاد می‌شود که برای توکنایز کردن متن‌های جدید استفاده می‌شود.\n",
        "\n",
        "---\n",
        "\n",
        "### **مزایا:**\n",
        "- **مدیریت کلمات ناشناخته:** کلمات جدید به زیرواژه‌ها شکسته می‌شوند.\n",
        "- **کاهش طول داده‌ها:** کلمات پرتکرار به توکن‌های واحد تبدیل می‌شوند.\n",
        "- **انعطاف‌پذیری:** در زبان‌های پیچیده مانند فارسی به‌خوبی کار می‌کند.\n",
        "\n",
        "### **معایب:**\n",
        "- **پیچیدگی زمانی:** یادگیری دیکشنری زمان‌بر است.\n",
        "- **شکستن معنایی:** ممکن است برخی کلمات معنای کامل خود را از دست بدهند.\n",
        "- **افزایش طول توکن‌ها:** در کلمات ناشناخته، تعداد توکن‌ها بیشتر می‌شود.\n",
        "\n",
        "---\n",
        "\n",
        "### **کاربردها:**\n",
        "- مدل‌های زبانی پیشرفته (مانند GPT و BERT).\n",
        "- ترجمه ماشینی و پردازش متن چندزبانه.\n",
        "\n"
      ],
      "metadata": {
        "id": "ZawvVUN85dFk"
      }
    },
    {
      "cell_type": "markdown",
      "metadata": {
        "id": "wxxI2q1_uQzf"
      },
      "source": [
        "# Model"
      ]
    },
    {
      "cell_type": "code",
      "source": [
        "import torch\n",
        "print(\"CUDA Available: \", torch.cuda.is_available())\n",
        "print(\"Device Name: \", torch.cuda.get_device_name(0) if torch.cuda.is_available() else \"No GPU found\")\n"
      ],
      "metadata": {
        "colab": {
          "base_uri": "https://localhost:8080/"
        },
        "id": "NEEI4e5eACyU",
        "outputId": "939a241c-961a-4eed-cc8a-e20c261d406b"
      },
      "execution_count": 12,
      "outputs": [
        {
          "output_type": "stream",
          "name": "stdout",
          "text": [
            "CUDA Available:  True\n",
            "Device Name:  Tesla T4\n"
          ]
        }
      ]
    },
    {
      "cell_type": "code",
      "execution_count": 13,
      "metadata": {
        "colab": {
          "base_uri": "https://localhost:8080/",
          "height": 696
        },
        "id": "8Pm-75BP1Mzj",
        "outputId": "67355238-abd6-4823-e603-bb76cfb17d50"
      },
      "outputs": [
        {
          "output_type": "stream",
          "name": "stdout",
          "text": [
            "Using device: cuda\n",
            "Epoch 1/10, Loss: 9.2845\n",
            "Epoch 2/10, Loss: 6.8018\n",
            "Epoch 3/10, Loss: 6.4637\n",
            "Epoch 4/10, Loss: 6.1813\n",
            "Epoch 5/10, Loss: 5.8884\n",
            "Epoch 6/10, Loss: 5.5740\n",
            "Epoch 7/10, Loss: 5.2374\n",
            "Epoch 8/10, Loss: 4.8872\n",
            "Epoch 9/10, Loss: 4.5369\n",
            "Epoch 10/10, Loss: 4.1869\n"
          ]
        },
        {
          "output_type": "display_data",
          "data": {
            "text/plain": [
              "<Figure size 640x480 with 1 Axes>"
            ],
            "image/png": "[encoded data removed]"
          },
          "metadata": {}
        }
      ],
      "source": [
        "import torch\n",
        "import torch.nn as nn\n",
        "import torch.optim as optim\n",
        "from torch.utils.data import Dataset, DataLoader\n",
        "import matplotlib.pyplot as plt\n",
        "\n",
        "device = torch.device(\"cuda\" if torch.cuda.is_available() else \"cpu\")\n",
        "print(f\"Using device: {device}\")\n",
        "\n",
        "\n",
        "with open(\"Persian-WikiText-1.txt\", \"r\", encoding=\"utf-8\") as f:\n",
        "    text = f.read()\n",
        "\n",
        "\n",
        "tokens = text.split()\n",
        "vocab = sorted(set(tokens))\n",
        "token_to_idx = {token: idx for idx, token in enumerate(vocab)}\n",
        "idx_to_token = {idx: token for token, idx in token_to_idx.items()}\n",
        "\n",
        "\n",
        "data_indices = [token_to_idx[token] for token in tokens]\n",
        "\n",
        "\n",
        "LIMIT = 10000  # Adjust the limit to your needs\n",
        "data_indices = data_indices[:LIMIT]\n",
        "\n",
        "\n",
        "class NGramDataset(Dataset):\n",
        "    def __init__(self, data, context_size):\n",
        "        self.data = data\n",
        "        self.context_size = context_size\n",
        "\n",
        "    def __len__(self):\n",
        "        return len(self.data) - self.context_size\n",
        "\n",
        "    def __getitem__(self, idx):\n",
        "        context = self.data[idx:idx + self.context_size]\n",
        "        target = self.data[idx + self.context_size]\n",
        "        return torch.tensor(context, dtype=torch.long), torch.tensor(target, dtype=torch.long)\n",
        "\n",
        "# Hyperparameters\n",
        "context_size = 5\n",
        "embedding_dim = 64\n",
        "hidden_dim = 128\n",
        "batch_size = 64\n",
        "num_epochs = 10\n",
        "learning_rate = 0.001\n",
        "\n",
        "\n",
        "dataset = NGramDataset(data_indices, context_size)\n",
        "dataloader = DataLoader(dataset, batch_size=batch_size, shuffle=True)\n",
        "\n",
        "class NGramRNN(nn.Module):\n",
        "    def __init__(self, vocab_size, embedding_dim, hidden_dim, context_size):\n",
        "        super(NGramRNN, self).__init__()\n",
        "        self.embedding = nn.Embedding(vocab_size, embedding_dim)\n",
        "        self.rnn = nn.RNN(embedding_dim, hidden_dim, batch_first=True)\n",
        "        self.fc = nn.Linear(hidden_dim, vocab_size)\n",
        "\n",
        "    def forward(self, x):\n",
        "        embedded = self.embedding(x)\n",
        "        rnn_out, _ = self.rnn(embedded)\n",
        "        output = self.fc(rnn_out[:, -1, :])\n",
        "        return output\n",
        "\n",
        "\n",
        "vocab_size = len(vocab)\n",
        "model = NGramRNN(vocab_size, embedding_dim, hidden_dim, context_size).to(device)  # Move model to GPU\n",
        "criterion = nn.CrossEntropyLoss()\n",
        "optimizer = optim.Adam(model.parameters(), lr=learning_rate)\n",
        "\n",
        "\n",
        "losses = []\n",
        "for epoch in range(num_epochs):\n",
        "    epoch_loss = 0\n",
        "    for contexts, targets in dataloader:\n",
        "        contexts, targets = contexts.to(device), targets.to(device)  # Move data to GPU\n",
        "        optimizer.zero_grad()\n",
        "        outputs = model(contexts)\n",
        "        loss = criterion(outputs, targets)\n",
        "        loss.backward()\n",
        "        optimizer.step()\n",
        "        epoch_loss += loss.item()\n",
        "\n",
        "    epoch_loss /= len(dataloader)\n",
        "    losses.append(epoch_loss)\n",
        "    print(f\"Epoch {epoch + 1}/{num_epochs}, Loss: {epoch_loss:.4f}\")\n",
        "\n",
        "\n",
        "plt.plot(range(1, num_epochs + 1), losses)\n",
        "plt.xlabel('Epoch')\n",
        "plt.ylabel('Loss')\n",
        "plt.title('Training Loss Curve')\n",
        "plt.show()\n",
        "\n",
        "\n",
        "torch.save(model.state_dict(), \"ngram_rnn_model.pth\")\n"
      ]
    },
    {
      "cell_type": "markdown",
      "source": [
        "#context_size = 5\n",
        "#embedding_dim = 64\n",
        "#hidden_dim = 128\n",
        "#batch_size = 64\n",
        "#num_epochs = 10\n",
        "#learning_rate = 0.001"
      ],
      "metadata": {
        "id": "Wf_a9YsakTYc"
      }
    },
    {
      "cell_type": "markdown",
      "source": [
        "#Perplexity:"
      ],
      "metadata": {
        "id": "R2-3LG3GBrf0"
      }
    },
    {
      "cell_type": "code",
      "source": [
        "import torch\n",
        "import torch.nn as nn\n",
        "import math\n",
        "\n",
        "\n",
        "\n",
        "def calculate_perplexity(model, dataloader, device):\n",
        "    model.eval()\n",
        "    total_loss = 0\n",
        "    total_tokens = 0\n",
        "\n",
        "    with torch.no_grad():\n",
        "        for contexts, targets in dataloader:\n",
        "            contexts, targets = contexts.to(device), targets.to(device)\n",
        "\n",
        "\n",
        "            outputs = model(contexts)\n",
        "\n",
        "\n",
        "            loss = nn.CrossEntropyLoss()(outputs, targets)\n",
        "            total_loss += loss.item() * contexts.size(0)\n",
        "            total_tokens += contexts.size(0) * contexts.size(1)\n",
        "\n",
        "\n",
        "    avg_log_likelihood = total_loss / total_tokens\n",
        "\n",
        "    perplexity = math.exp(avg_log_likelihood)\n",
        "    return perplexity\n",
        "\n",
        "perplexity = calculate_perplexity(model, dataloader, device)\n",
        "print(f\"Perplexity: {perplexity:.4f}\")\n"
      ],
      "metadata": {
        "colab": {
          "base_uri": "https://localhost:8080/"
        },
        "id": "efxYjqCqB47j",
        "outputId": "278326a8-a349-4d1e-d2f8-62686897ee19"
      },
      "execution_count": 14,
      "outputs": [
        {
          "output_type": "stream",
          "name": "stdout",
          "text": [
            "Perplexity: 2.1148\n"
          ]
        }
      ]
    },
    {
      "cell_type": "code",
      "source": [
        "import torch\n",
        "from torch.nn import functional as F\n",
        "\n",
        "\n",
        "model = NGramRNN(vocab_size, embedding_dim, hidden_dim, context_size).to('cuda')\n",
        "model.load_state_dict(torch.load(\"ngram_rnn_model.pth\"))\n",
        "model.eval()\n",
        "\n",
        "\n",
        "def custom_tokenizer(prompt):\n",
        "    return prompt.split()\n",
        "\n",
        "\n",
        "def generate_text(model, prompt, max_length=50, device='cuda'):\n",
        "    model.eval()\n",
        "    input_tokens = custom_tokenizer(prompt)\n",
        "    input_ids = torch.tensor([token_to_idx[token] for token in input_tokens], dtype=torch.long).unsqueeze(0).to(device)  # Encode prompt as tensor\n",
        "\n",
        "    generated_text = prompt\n",
        "\n",
        "    with torch.no_grad():\n",
        "        for _ in range(max_length):\n",
        "            outputs = model(input_ids)\n",
        "            logits = outputs\n",
        "            next_token_id = torch.argmax(logits, dim=-1).item()\n",
        "\n",
        "            next_token = idx_to_token[next_token_id]\n",
        "            generated_text += \" \" + next_token\n",
        "\n",
        "\n",
        "            input_ids = torch.cat([input_ids, torch.tensor([[next_token_id]], device=device)], dim=1)\n",
        "\n",
        "    return generated_text\n",
        "\n",
        "prompt = \"امروز روز خوبی است\"\n",
        "generated_text = generate_text(model, prompt, max_length=10, device='cuda')\n",
        "print(\"Generated Text: \", generated_text)\n"
      ],
      "metadata": {
        "colab": {
          "base_uri": "https://localhost:8080/"
        },
        "id": "siREc8OACTLg",
        "outputId": "21614131-97d8-4949-9932-6e4b447c4c90"
      },
      "execution_count": 18,
      "outputs": [
        {
          "output_type": "stream",
          "name": "stderr",
          "text": [
            "<ipython-input-18-c6fac7571911>:6: FutureWarning: You are using `torch.load` with `weights_only=False` (the current default value), which uses the default pickle module implicitly. It is possible to construct malicious pickle data which will execute arbitrary code during unpickling (See https://github.com/pytorch/pytorch/blob/main/SECURITY.md#untrusted-models for more details). In a future release, the default value for `weights_only` will be flipped to `True`. This limits the functions that could be executed during unpickling. Arbitrary objects will no longer be allowed to be loaded via this mode unless they are explicitly allowlisted by the user via `torch.serialization.add_safe_globals`. We recommend you start setting `weights_only=True` for any use case where you don't have full control of the loaded file. Please open an issue on GitHub for any issues related to this experimental feature.\n",
            "  model.load_state_dict(torch.load(\"ngram_rnn_model.pth\"))\n"
          ]
        },
        {
          "output_type": "stream",
          "name": "stdout",
          "text": [
            "Generated Text:  امروز روز خوبی است که در سال ۲۰۰۴ به کار می شود. در سال\n"
          ]
        }
      ]
    },
    {
      "cell_type": "markdown",
      "source": [
        "#Transformers"
      ],
      "metadata": {
        "id": "7qZXid2CVume"
      }
    },
    {
      "cell_type": "code",
      "source": [
        "!pip install torch transformers tokenizers\n"
      ],
      "metadata": {
        "colab": {
          "base_uri": "https://localhost:8080/"
        },
        "id": "v3SJV8sXJois",
        "outputId": "e598bbee-b928-4c2d-a697-7acb4b7bd9dc"
      },
      "execution_count": null,
      "outputs": [
        {
          "output_type": "stream",
          "name": "stdout",
          "text": [
            "Requirement already satisfied: torch in /usr/local/lib/python3.10/dist-packages (2.5.1+cu121)\n",
            "Requirement already satisfied: transformers in /usr/local/lib/python3.10/dist-packages (4.46.2)\n",
            "Requirement already satisfied: tokenizers in /usr/local/lib/python3.10/dist-packages (0.20.3)\n",
            "Requirement already satisfied: filelock in /usr/local/lib/python3.10/dist-packages (from torch) (3.16.1)\n",
            "Requirement already satisfied: typing-extensions>=4.8.0 in /usr/local/lib/python3.10/dist-packages (from torch) (4.12.2)\n",
            "Requirement already satisfied: networkx in /usr/local/lib/python3.10/dist-packages (from torch) (3.4.2)\n",
            "Requirement already satisfied: jinja2 in /usr/local/lib/python3.10/dist-packages (from torch) (3.1.4)\n",
            "Requirement already satisfied: fsspec in /usr/local/lib/python3.10/dist-packages (from torch) (2024.10.0)\n",
            "Requirement already satisfied: sympy==1.13.1 in /usr/local/lib/python3.10/dist-packages (from torch) (1.13.1)\n",
            "Requirement already satisfied: mpmath<1.4,>=1.1.0 in /usr/local/lib/python3.10/dist-packages (from sympy==1.13.1->torch) (1.3.0)\n",
            "Requirement already satisfied: huggingface-hub<1.0,>=0.23.2 in /usr/local/lib/python3.10/dist-packages (from transformers) (0.26.2)\n",
            "Requirement already satisfied: numpy>=1.17 in /usr/local/lib/python3.10/dist-packages (from transformers) (1.24.3)\n",
            "Requirement already satisfied: packaging>=20.0 in /usr/local/lib/python3.10/dist-packages (from transformers) (24.2)\n",
            "Requirement already satisfied: pyyaml>=5.1 in /usr/local/lib/python3.10/dist-packages (from transformers) (6.0.2)\n",
            "Requirement already satisfied: regex!=2019.12.17 in /usr/local/lib/python3.10/dist-packages (from transformers) (2024.9.11)\n",
            "Requirement already satisfied: requests in /usr/local/lib/python3.10/dist-packages (from transformers) (2.32.3)\n",
            "Requirement already satisfied: safetensors>=0.4.1 in /usr/local/lib/python3.10/dist-packages (from transformers) (0.4.5)\n",
            "Requirement already satisfied: tqdm>=4.27 in /usr/local/lib/python3.10/dist-packages (from transformers) (4.66.6)\n",
            "Requirement already satisfied: MarkupSafe>=2.0 in /usr/local/lib/python3.10/dist-packages (from jinja2->torch) (3.0.2)\n",
            "Requirement already satisfied: charset-normalizer<4,>=2 in /usr/local/lib/python3.10/dist-packages (from requests->transformers) (3.4.0)\n",
            "Requirement already satisfied: idna<4,>=2.5 in /usr/local/lib/python3.10/dist-packages (from requests->transformers) (3.10)\n",
            "Requirement already satisfied: urllib3<3,>=1.21.1 in /usr/local/lib/python3.10/dist-packages (from requests->transformers) (2.2.3)\n",
            "Requirement already satisfied: certifi>=2017.4.17 in /usr/local/lib/python3.10/dist-packages (from requests->transformers) (2024.8.30)\n"
          ]
        }
      ]
    },
    {
      "cell_type": "markdown",
      "source": [
        "#Prepare the Dataset for Training"
      ],
      "metadata": {
        "id": "A31W9NKIbD9w"
      }
    },
    {
      "cell_type": "code",
      "source": [
        "import torch\n",
        "from torch.utils.data import Dataset, DataLoader\n",
        "\n",
        "class PersianTextDataset(Dataset):\n",
        "    def __init__(self, tokenizer, file_path, max_length=128):\n",
        "        self.tokenizer = tokenizer\n",
        "        self.max_length = max_length\n",
        "\n",
        "\n",
        "        with open(file_path, 'r', encoding='utf-8') as file:\n",
        "            self.text = file.read().split('.')\n",
        "\n",
        "\n",
        "        self.encoded_texts = [\n",
        "            tokenizer.encode(sentence).ids for sentence in self.text if sentence.strip()\n",
        "        ]\n",
        "\n",
        "    def __len__(self):\n",
        "        return len(self.encoded_texts)\n",
        "\n",
        "    def __getitem__(self, idx):\n",
        "        encoded_text = self.encoded_texts[idx]\n",
        "        input_ids = encoded_text[:self.max_length]\n",
        "        padding_length = self.max_length - len(input_ids)\n",
        "\n",
        "\n",
        "        input_ids += [self.tokenizer.token_to_id(\"<pad>\")] * padding_length\n",
        "\n",
        "\n",
        "        attention_mask = [1 if i != self.tokenizer.token_to_id(\"<pad>\") else 0 for i in input_ids]\n",
        "\n",
        "        return {\n",
        "            \"input_ids\": torch.tensor(input_ids, dtype=torch.long),\n",
        "            \"attention_mask\": torch.tensor(attention_mask, dtype=torch.long),\n",
        "        }\n",
        "\n",
        "\n",
        "dataset = PersianTextDataset(tokenizer, \"cleaned_text.txt\", max_length=128)\n",
        "dataloader = DataLoader(dataset, batch_size=32, shuffle=True)\n"
      ],
      "metadata": {
        "id": "Ul060X-66w-m"
      },
      "execution_count": null,
      "outputs": []
    },
    {
      "cell_type": "markdown",
      "source": [
        "# Define the Transformer Model"
      ],
      "metadata": {
        "id": "SKlo0grObvZJ"
      }
    },
    {
      "cell_type": "code",
      "source": [
        "import torch.nn as nn\n",
        "import math\n",
        "\n",
        "class Transformer(nn.Module):\n",
        "    def __init__(self, vocab_size, d_model, nhead, num_layers, max_len=128):\n",
        "        super(Transformer, self).__init__()\n",
        "        self.embedding = nn.Embedding(vocab_size, d_model)\n",
        "        self.positional_encoding = nn.Parameter(torch.zeros(1, max_len, d_model))\n",
        "\n",
        "        self.encoder_layer = nn.TransformerEncoderLayer(d_model=d_model, nhead=nhead)\n",
        "        self.transformer_encoder = nn.TransformerEncoder(self.encoder_layer, num_layers=num_layers)\n",
        "\n",
        "        self.fc_out = nn.Linear(d_model, vocab_size)\n",
        "        self.dropout = nn.Dropout(0.1)\n",
        "\n",
        "    def forward(self, input_ids, attention_mask):\n",
        "\n",
        "        embedded = self.embedding(input_ids) + self.positional_encoding[:, :input_ids.size(1), :]\n",
        "        embedded = self.dropout(embedded)\n",
        "\n",
        "\n",
        "        embedded = embedded.permute(1, 0, 2)  # [batch_size, seq_len, d_model] -> [seq_len, batch_size, d_model]\n",
        "        mask = attention_mask == 0  # Mask for padding tokens\n",
        "        transformer_output = self.transformer_encoder(embedded, src_key_padding_mask=mask)\n",
        "\n",
        "\n",
        "        output = self.fc_out(transformer_output.permute(1, 0, 2))  # Back to [batch_size, seq_len, vocab_size]\n",
        "        return output\n"
      ],
      "metadata": {
        "id": "3z-ODbnfbwdp"
      },
      "execution_count": null,
      "outputs": []
    },
    {
      "cell_type": "markdown",
      "source": [
        "#Train the Model"
      ],
      "metadata": {
        "id": "39-BlEMIb1th"
      }
    },
    {
      "cell_type": "code",
      "source": [
        "from torch.optim import Adam\n",
        "from torch.cuda.amp import GradScaler, autocast\n",
        "from torch.utils.data import Subset\n",
        "\n",
        "\n",
        "debug_size = int(len(dataset) * 0.1)  # Use 10% of the dataset for debugging\n",
        "debug_indices = list(range(debug_size))\n",
        "debug_dataloader = torch.utils.data.DataLoader(\n",
        "    Subset(dataset, debug_indices), batch_size=64, shuffle=True\n",
        ")\n",
        "\n",
        "# Model parameters\n",
        "vocab_size = tokenizer.get_vocab_size()\n",
        "d_model = 256\n",
        "nhead = 8\n",
        "num_layers = 4\n",
        "\n",
        "\n",
        "model = Transformer(vocab_size, d_model, nhead, num_layers)\n",
        "model = model.to(device)\n",
        "\n",
        "\n",
        "optimizer = Adam(model.parameters(), lr=5e-5)\n",
        "loss_fn = nn.CrossEntropyLoss(ignore_index=tokenizer.token_to_id(\"<pad>\"))\n",
        "\n",
        "\n",
        "scaler = GradScaler()\n",
        "\n",
        "epochs = 10\n",
        "for epoch in range(epochs):\n",
        "    model.train()\n",
        "    epoch_loss = 0\n",
        "\n",
        "    for batch in debug_dataloader:\n",
        "        input_ids = batch[\"input_ids\"].to(device)\n",
        "        attention_mask = batch[\"attention_mask\"].to(device)\n",
        "\n",
        "        with autocast():\n",
        "            outputs = model(input_ids, attention_mask)\n",
        "            logits = outputs.view(-1, vocab_size)\n",
        "            targets = input_ids.view(-1)\n",
        "\n",
        "\n",
        "            loss = loss_fn(logits, targets)\n",
        "\n",
        "\n",
        "        optimizer.zero_grad()\n",
        "        scaler.scale(loss).backward()\n",
        "        scaler.step(optimizer)\n",
        "        scaler.update()\n",
        "\n",
        "        epoch_loss += loss.item()\n",
        "\n",
        "    print(f\"Epoch {epoch + 1}/{epochs}, Loss: {epoch_loss / len(debug_dataloader)}\")\n"
      ],
      "metadata": {
        "colab": {
          "base_uri": "https://localhost:8080/"
        },
        "id": "zWWgwjYDfux2",
        "outputId": "7c7b1c0f-cb5a-4331-e86b-8a9013cd71c1"
      },
      "execution_count": null,
      "outputs": [
        {
          "output_type": "stream",
          "name": "stderr",
          "text": [
            "/usr/local/lib/python3.10/dist-packages/torch/nn/modules/transformer.py:379: UserWarning: enable_nested_tensor is True, but self.use_nested_tensor is False because encoder_layer.self_attn.batch_first was not True(use batch_first for better inference performance)\n",
            "  warnings.warn(\n",
            "<ipython-input-15-9defac12ba14>:27: FutureWarning: `torch.cuda.amp.GradScaler(args...)` is deprecated. Please use `torch.amp.GradScaler('cuda', args...)` instead.\n",
            "  scaler = GradScaler()\n",
            "<ipython-input-15-9defac12ba14>:39: FutureWarning: `torch.cuda.amp.autocast(args...)` is deprecated. Please use `torch.amp.autocast('cuda', args...)` instead.\n",
            "  with autocast():  # Mixed precision forward pass\n"
          ]
        },
        {
          "output_type": "stream",
          "name": "stdout",
          "text": [
            "Epoch 1/10, Loss: 4.737224984169006\n",
            "Epoch 2/10, Loss: 2.2871448152501817\n",
            "Epoch 3/10, Loss: 1.4500436161605406\n",
            "Epoch 4/10, Loss: 1.0141906413393962\n",
            "Epoch 5/10, Loss: 0.7455249874524668\n",
            "Epoch 6/10, Loss: 0.5643928113537775\n",
            "Epoch 7/10, Loss: 0.43485227840047486\n",
            "Epoch 8/10, Loss: 0.33793307672923717\n",
            "Epoch 9/10, Loss: 0.26414077752073045\n",
            "Epoch 10/10, Loss: 0.20745577879354987\n"
          ]
        }
      ]
    },
    {
      "cell_type": "markdown",
      "source": [
        "# The loss has decreased"
      ],
      "metadata": {
        "id": "qGxcqPTffag_"
      }
    },
    {
      "cell_type": "markdown",
      "source": [
        "#Generate Text and save model"
      ],
      "metadata": {
        "id": "ARy_sry6cpu6"
      }
    },
    {
      "cell_type": "code",
      "source": [
        "import torch\n",
        "\n",
        "torch.save(model.state_dict(), \"persian_transformer.pth\")\n",
        "\n",
        "\n",
        "model.eval()\n",
        "example_input = tokenizer.encode(\" این یک نمونه تست است. حال\").ids\n",
        "example_input = torch.tensor(example_input).unsqueeze(0).to(device)\n",
        "output = model(example_input, attention_mask=torch.ones_like(example_input).to(device))\n",
        "predicted_ids = output.argmax(-1).squeeze().tolist()\n",
        "predicted_text = tokenizer.decode(predicted_ids)\n",
        "\n",
        "print(\"Generated text:\", predicted_text)\n"
      ],
      "metadata": {
        "id": "HlebW91ncr5i",
        "colab": {
          "base_uri": "https://localhost:8080/"
        },
        "outputId": "7df8c2e9-f177-4fe2-d019-97359aea35c7"
      },
      "execution_count": null,
      "outputs": [
        {
          "output_type": "stream",
          "name": "stdout",
          "text": [
            "Generated text: این یک نمونه تست است بروز حال\n"
          ]
        }
      ]
    },
    {
      "cell_type": "markdown",
      "source": [
        "#Calculate Perplexity"
      ],
      "metadata": {
        "id": "F69x06Z8ZD7P"
      }
    },
    {
      "cell_type": "code",
      "source": [
        "import torch\n",
        "import math\n",
        "from torch.utils.data import DataLoader\n",
        "\n",
        "\n",
        "model = Transformer(vocab_size, d_model, nhead, num_layers)\n",
        "model.load_state_dict(torch.load(\"persian_transformer.pth\"))\n",
        "model = model.to(device)\n",
        "\n",
        "\n",
        "model.eval()\n",
        "\n",
        "loss_fn = nn.CrossEntropyLoss(ignore_index=tokenizer.token_to_id(\"<pad>\"))\n",
        "\n",
        "# Create a DataLoader for the validation data (if you have a validation dataset)\n",
        "# If you don't have one, you can use a subset of the training dataset for evaluation\n",
        "validation_dataloader = DataLoader(dataset, batch_size=64, shuffle=True)\n",
        "\n",
        "\n",
        "total_loss = 0\n",
        "total_samples = 0\n",
        "\n",
        "with torch.no_grad():\n",
        "    model.eval()\n",
        "    for batch in validation_dataloader:\n",
        "        input_ids = batch[\"input_ids\"].to(device)\n",
        "        attention_mask = batch[\"attention_mask\"].to(device)\n",
        "\n",
        "\n",
        "        outputs = model(input_ids, attention_mask)\n",
        "        logits = outputs.view(-1, vocab_size)\n",
        "        targets = input_ids.view(-1)\n",
        "\n",
        "\n",
        "        loss = loss_fn(logits, targets)\n",
        "\n",
        "        total_loss += loss.item() * input_ids.size(0)\n",
        "        total_samples += input_ids.size(0)\n",
        "\n",
        "\n",
        "avg_loss = total_loss / total_samples\n",
        "perplexity = math.exp(avg_loss)\n",
        "\n",
        "print(f\"Perplexity: {perplexity:.4f}\")\n"
      ],
      "metadata": {
        "colab": {
          "base_uri": "https://localhost:8080/"
        },
        "id": "ybs6AxtFZCns",
        "outputId": "cfd029a3-0ac0-4baf-ca5e-4e2e692f26ec"
      },
      "execution_count": null,
      "outputs": [
        {
          "output_type": "stream",
          "name": "stderr",
          "text": [
            "/usr/local/lib/python3.10/dist-packages/torch/nn/modules/transformer.py:379: UserWarning: enable_nested_tensor is True, but self.use_nested_tensor is False because encoder_layer.self_attn.batch_first was not True(use batch_first for better inference performance)\n",
            "  warnings.warn(\n",
            "<ipython-input-17-cb7f6bed71e2>:7: FutureWarning: You are using `torch.load` with `weights_only=False` (the current default value), which uses the default pickle module implicitly. It is possible to construct malicious pickle data which will execute arbitrary code during unpickling (See https://github.com/pytorch/pytorch/blob/main/SECURITY.md#untrusted-models for more details). In a future release, the default value for `weights_only` will be flipped to `True`. This limits the functions that could be executed during unpickling. Arbitrary objects will no longer be allowed to be loaded via this mode unless they are explicitly allowlisted by the user via `torch.serialization.add_safe_globals`. We recommend you start setting `weights_only=True` for any use case where you don't have full control of the loaded file. Please open an issue on GitHub for any issues related to this experimental feature.\n",
            "  model.load_state_dict(torch.load(\"persian_transformer.pth\"))\n"
          ]
        },
        {
          "output_type": "stream",
          "name": "stdout",
          "text": [
            "Perplexity: 1.4010\n"
          ]
        }
      ]
    },
    {
      "cell_type": "markdown",
      "source": [
        "#The perplexity has decreased"
      ],
      "metadata": {
        "id": "190cSrdNgyvE"
      }
    }
  ],
  "metadata": {
    "accelerator": "GPU",
    "colab": {
      "gpuType": "T4",
      "provenance": []
    },
    "kernelspec": {
      "display_name": "Python 3",
      "name": "python3"
    },
    "language_info": {
      "name": "python"
    }
  },
  "nbformat": 4,
  "nbformat_minor": 0
}