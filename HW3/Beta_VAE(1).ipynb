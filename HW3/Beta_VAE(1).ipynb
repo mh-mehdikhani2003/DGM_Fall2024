{
  "cells": [
    {
      "cell_type": "markdown",
      "metadata": {
        "id": "vx2Bm_3IKXEt"
      },
      "source": [
        "# ***Image generation of FASHION-MNIST via β-VAE***"
      ]
    },
    {
      "cell_type": "markdown",
      "metadata": {
        "id": "5BNRLQm9KXFJ"
      },
      "source": [
        "#**Theory**"
      ]
    },
    {
      "cell_type": "markdown",
      "metadata": {
        "id": "E9UZ75TyOm8I"
      },
      "source": [
        "**Encoder and decoder of VAE are decoded as follows.**\n",
        "- Encoder (Gaussian distribution)：$$q_{\\phi}({\\bf z}|{\\bf x}) = {\\mathcal N}({\\bf z}| \\mu,\\sigma^2{\\bf I}), 　s.t.　\\mu=g^{\\mu}_{\\phi}({\\bf x}), \\sigma=g^{\\sigma}_{\\phi}({\\bf x}). $$\n",
        "- Decoder (Bernoulli distribution)：$$p_{\\theta}({\\bf x}|{\\bf z}) = Ber({\\bf x}| \\lambda), 　s.t.　\\lambda=f_{\\theta}({\\bf z}).$$\n",
        "<br>\n",
        "\n",
        "**ELBO (Evidence Lower BOund) is represented like below.**  The first and the second term are corresponding to (minus) reconstruction loss and KL divergence, respectively. For the implementation of β-VAE, the coefficient β(>1) in the regularisation term of the objective function is needed in order to make the model more disentangled.\n",
        "\n",
        "\n",
        "$$\n",
        " {\\mathcal L}({\\bf x};{\\bf \\theta},{\\bf \\phi}) = \\mathbb{E}_{q_{\\phi}({\\bf z}|{\\bf x})}[\\log p_\\theta({\\bf x}|{\\bf z})] -\\beta D_{KL}[q_{\\phi}({\\bf z}|{\\bf x})||p_{\\theta}({\\bf z})]\n",
        " $$  "
      ]
    },
    {
      "cell_type": "markdown",
      "metadata": {
        "id": "oWwOTcCzRNXb"
      },
      "source": [
        "#**MODEL**"
      ]
    },
    {
      "cell_type": "code",
      "source": [
        "import torch\n",
        "import torch.nn as nn\n",
        "import torch.optim as optim\n",
        "import torch.nn.functional as F\n",
        "from torch.utils.data import DataLoader\n",
        "from torchvision import datasets, transforms\n",
        "import matplotlib.pyplot as plt\n",
        "import numpy as np\n",
        "\n",
        "\n",
        "transform = transforms.Compose([\n",
        "    transforms.Resize((28, 28)),\n",
        "    transforms.ToTensor(),\n",
        "    transforms.Normalize((0.5,), (0.5,))\n",
        "])\n",
        "\n",
        "train_dataset = datasets.FashionMNIST(root='./data', train=True, transform=transform, download=True)\n",
        "test_dataset = datasets.FashionMNIST(root='./data', train=False, transform=transform, download=True)\n",
        "\n",
        "batch_size = 32\n",
        "train_loader = DataLoader(train_dataset, batch_size=batch_size, shuffle=True)\n",
        "test_loader = DataLoader(test_dataset, batch_size=batch_size, shuffle=False)\n",
        "\n",
        "class VAE(nn.Module):\n",
        "    def __init__(self, latent_dim=10):\n",
        "        super(VAE, self).__init__()\n",
        "        self.encoder = nn.Sequential(\n",
        "            nn.Flatten(),\n",
        "            nn.Linear(28 * 28, 512),\n",
        "            nn.ReLU(),\n",
        "            nn.Linear(512, 256),\n",
        "            nn.ReLU(),\n",
        "            nn.Linear(256, latent_dim * 2)\n",
        "        )\n",
        "        self.decoder = nn.Sequential(\n",
        "            nn.Linear(latent_dim, 256),\n",
        "            nn.ReLU(),\n",
        "            nn.Linear(256, 512),\n",
        "            nn.ReLU(),\n",
        "            nn.Linear(512, 28 * 28),\n",
        "            nn.Sigmoid(),\n",
        "            nn.Unflatten(1, (1, 28, 28))\n",
        "        )\n",
        "\n",
        "    def reparameterize(self, mu, log_var):\n",
        "        std = torch.exp(0.5 * log_var)\n",
        "        eps = torch.randn_like(std)\n",
        "        return mu + eps * std\n",
        "\n",
        "    def forward(self, x):\n",
        "        latent_dim = 10\n",
        "        encoded = self.encoder(x)\n",
        "        mu, log_var = encoded[:, :latent_dim], encoded[:, latent_dim:]\n",
        "\n",
        "        z = self.reparameterize(mu, log_var)\n",
        "\n",
        "        recon_x = self.decoder(z)\n",
        "        return recon_x, mu, log_var\n",
        "\n",
        "def vae_loss(recon_x, x, mu, log_var, beta=1.0):\n",
        "    recon_loss = F.mse_loss(recon_x, x, reduction='sum')\n",
        "    kl_div = -0.5 * torch.sum(1 + log_var - mu.pow(2) - log_var.exp())\n",
        "    return recon_loss + beta * kl_div\n",
        "\n",
        "\n",
        "device = 'cuda' if torch.cuda.is_available() else 'cpu'\n",
        "vae = VAE(latent_dim=10).to(device)\n",
        "optimizer = optim.Adam(vae.parameters(), lr=0.001)\n",
        "epochs = 10\n",
        "beta = 1.0\n",
        "\n",
        "for epoch in range(epochs):\n",
        "    vae.train()\n",
        "    train_loss = 0.0\n",
        "    for batch_idx, (data, _) in enumerate(train_loader):\n",
        "        data = data.to(device)\n",
        "        optimizer.zero_grad()\n",
        "        recon_data, mu, log_var = vae(data)\n",
        "        loss = vae_loss(recon_data, data, mu, log_var, beta)\n",
        "        loss.backward()\n",
        "        optimizer.step()\n",
        "\n",
        "        train_loss += loss.item()\n",
        "        torch.cuda.empty_cache()\n",
        "\n",
        "    print(f'Epoch [{epoch+1}/{epochs}], Loss: {train_loss / len(train_loader):.4f}')\n",
        "\n",
        "vae.eval()\n",
        "with torch.no_grad():\n",
        "\n",
        "    random_latent_vectors = torch.randn(100, 10).to(device)\n",
        "    generated_samples = vae.decoder(random_latent_vectors).cpu()\n",
        "\n",
        "\n",
        "    test_samples, _ = next(iter(test_loader))\n",
        "    test_samples = test_samples.to(device)\n",
        "    recon_samples, _, _ = vae(test_samples)\n",
        "\n",
        "\n",
        "    fig, axes = plt.subplots(1, 10, figsize=(15, 5))\n",
        "    for i, ax in enumerate(axes):\n",
        "        ax.imshow(recon_samples[i].cpu().squeeze(), cmap='gray')\n",
        "        ax.axis('off')\n",
        "    plt.suptitle('Reconstructed Samples')\n",
        "    plt.show()\n",
        "\n",
        "\n",
        "    fig, axes = plt.subplots(1, 10, figsize=(15, 5))\n",
        "    for i, ax in enumerate(axes):\n",
        "        ax.imshow(generated_samples[i].cpu().squeeze(), cmap='gray')\n",
        "        ax.axis('off')\n",
        "    plt.suptitle('Generated Samples')\n",
        "    plt.show()\n",
        "\n",
        "print(\"Visual analysis can help evaluate the VAE's capability for reconstruction and generation.\")\n"
      ],
      "metadata": {
        "colab": {
          "base_uri": "https://localhost:8080/",
          "height": 1000
        },
        "id": "f2LaH00nlTDF",
        "outputId": "6af3e942-91bf-4021-e291-b4f356a8a948"
      },
      "execution_count": 2,
      "outputs": [
        {
          "output_type": "stream",
          "name": "stdout",
          "text": [
            "Downloading http://fashion-mnist.s3-website.eu-central-1.amazonaws.com/train-images-idx3-ubyte.gz\n",
            "Downloading http://fashion-mnist.s3-website.eu-central-1.amazonaws.com/train-images-idx3-ubyte.gz to ./data/FashionMNIST/raw/train-images-idx3-ubyte.gz\n"
          ]
        },
        {
          "output_type": "stream",
          "name": "stderr",
          "text": [
            "100%|██████████| 26.4M/26.4M [00:00<00:00, 112MB/s]\n"
          ]
        },
        {
          "output_type": "stream",
          "name": "stdout",
          "text": [
            "Extracting ./data/FashionMNIST/raw/train-images-idx3-ubyte.gz to ./data/FashionMNIST/raw\n",
            "\n",
            "Downloading http://fashion-mnist.s3-website.eu-central-1.amazonaws.com/train-labels-idx1-ubyte.gz\n",
            "Downloading http://fashion-mnist.s3-website.eu-central-1.amazonaws.com/train-labels-idx1-ubyte.gz to ./data/FashionMNIST/raw/train-labels-idx1-ubyte.gz\n"
          ]
        },
        {
          "output_type": "stream",
          "name": "stderr",
          "text": [
            "100%|██████████| 29.5k/29.5k [00:00<00:00, 5.22MB/s]"
          ]
        },
        {
          "output_type": "stream",
          "name": "stdout",
          "text": [
            "Extracting ./data/FashionMNIST/raw/train-labels-idx1-ubyte.gz to ./data/FashionMNIST/raw\n",
            "\n",
            "Downloading http://fashion-mnist.s3-website.eu-central-1.amazonaws.com/t10k-images-idx3-ubyte.gz\n",
            "Downloading http://fashion-mnist.s3-website.eu-central-1.amazonaws.com/t10k-images-idx3-ubyte.gz to ./data/FashionMNIST/raw/t10k-images-idx3-ubyte.gz\n"
          ]
        },
        {
          "output_type": "stream",
          "name": "stderr",
          "text": [
            "\n",
            "100%|██████████| 4.42M/4.42M [00:00<00:00, 57.5MB/s]\n"
          ]
        },
        {
          "output_type": "stream",
          "name": "stdout",
          "text": [
            "Extracting ./data/FashionMNIST/raw/t10k-images-idx3-ubyte.gz to ./data/FashionMNIST/raw\n",
            "\n",
            "Downloading http://fashion-mnist.s3-website.eu-central-1.amazonaws.com/t10k-labels-idx1-ubyte.gz\n",
            "Downloading http://fashion-mnist.s3-website.eu-central-1.amazonaws.com/t10k-labels-idx1-ubyte.gz to ./data/FashionMNIST/raw/t10k-labels-idx1-ubyte.gz\n"
          ]
        },
        {
          "output_type": "stream",
          "name": "stderr",
          "text": [
            "100%|██████████| 5.15k/5.15k [00:00<00:00, 21.3MB/s]"
          ]
        },
        {
          "output_type": "stream",
          "name": "stdout",
          "text": [
            "Extracting ./data/FashionMNIST/raw/t10k-labels-idx1-ubyte.gz to ./data/FashionMNIST/raw\n",
            "\n"
          ]
        },
        {
          "output_type": "stream",
          "name": "stderr",
          "text": [
            "\n"
          ]
        },
        {
          "output_type": "stream",
          "name": "stdout",
          "text": [
            "Epoch [1/10], Loss: 15847.9251\n",
            "Epoch [2/10], Loss: 15501.8200\n",
            "Epoch [3/10], Loss: 15427.3740\n",
            "Epoch [4/10], Loss: 15388.6210\n",
            "Epoch [5/10], Loss: 15370.1606\n",
            "Epoch [6/10], Loss: 15357.2321\n",
            "Epoch [7/10], Loss: 15346.2138\n",
            "Epoch [8/10], Loss: 15339.1754\n",
            "Epoch [9/10], Loss: 15332.6883\n",
            "Epoch [10/10], Loss: 15327.6940\n"
          ]
        },
        {
          "output_type": "display_data",
          "data": {
            "text/plain": [
              "<Figure size 1500x500 with 10 Axes>"
            ],
            "image/png": "[encoded data removed]"
          },
          "metadata": {}
        },
        {
          "output_type": "display_data",
          "data": {
            "text/plain": [
              "<Figure size 1500x500 with 10 Axes>"
            ],
            "image/png": "[encoded data removed]"
          },
          "metadata": {}
        },
        {
          "output_type": "stream",
          "name": "stdout",
          "text": [
            "Visual analysis can help evaluate the VAE's capability for reconstruction and generation.\n"
          ]
        }
      ]
    },
    {
      "cell_type": "code",
      "source": [
        "import torch\n",
        "import numpy as np\n",
        "from scipy.linalg import sqrtm\n",
        "import torch.nn.functional as F\n",
        "from torchvision.transforms import Resize\n",
        "\n",
        "\n",
        "def preprocess_images(images, target_size=(75, 75)):\n",
        "    \"\"\"Resize and ensure images are 3-channel (RGB).\"\"\"\n",
        "    images_resized = F.interpolate(images, size=target_size, mode='bilinear', align_corners=False)\n",
        "    if images_resized.size(1) != 3:\n",
        "        images_resized = images_resized.expand(-1, 3, -1, -1)\n",
        "    return images_resized\n",
        "\n",
        "\n",
        "def get_inception_features(images, model, device):\n",
        "    \"\"\"Extract features using Inception v3.\"\"\"\n",
        "    model.eval()\n",
        "    with torch.no_grad():\n",
        "        images = preprocess_images(images).to(device)\n",
        "        features = model(images)\n",
        "        features = features.view(features.size(0), -1)\n",
        "    return features\n",
        "\n",
        "\n",
        "def calculate_fid(real_images, generated_images, model, device):\n",
        "    \"\"\"Calculate FID score.\"\"\"\n",
        "    real_features = get_inception_features(real_images, model, device)\n",
        "    generated_features = get_inception_features(generated_images, model, device)\n",
        "\n",
        "    mu_real = torch.mean(real_features, dim=0)\n",
        "    sigma_real = torch.cov(real_features.T)\n",
        "    mu_generated = torch.mean(generated_features, dim=0)\n",
        "    sigma_generated = torch.cov(generated_features.T)\n",
        "\n",
        "\n",
        "    ssd = torch.sum((mu_real - mu_generated) ** 2)\n",
        "    cov_sqrt = sqrtm((sigma_real @ sigma_generated).cpu().numpy())\n",
        "    if np.iscomplexobj(cov_sqrt):\n",
        "        cov_sqrt = cov_sqrt.real\n",
        "    cov_sqrt = torch.tensor(cov_sqrt, dtype=torch.float32, device=device)\n",
        "\n",
        "    fid = ssd + torch.trace(sigma_real + sigma_generated - 2 * cov_sqrt)\n",
        "    return fid.item()\n",
        "\n",
        "\n",
        "\n",
        "from torchvision.models import inception_v3\n",
        "\n",
        "inception_model = inception_v3(pretrained=True, transform_input=False)\n",
        "inception_model = inception_model.to(device)\n",
        "inception_model.eval()\n",
        "\n",
        "test_samples, _ = next(iter(test_loader))\n",
        "test_samples = test_samples.to(device)\n",
        "recon_samples, _, _ = vae(test_samples)\n",
        "recon_samples = recon_samples.detach()\n",
        "\n",
        "fid_reconstruction = calculate_fid(test_samples.cpu(), recon_samples.cpu(), inception_model, device)\n",
        "print(f'FID between test samples and reconstructed samples: {fid_reconstruction:.4f}')\n"
      ],
      "metadata": {
        "colab": {
          "base_uri": "https://localhost:8080/"
        },
        "id": "vKilvG9NmGIQ",
        "outputId": "5d630f48-df49-44d4-a249-c5879cf0e226"
      },
      "execution_count": 3,
      "outputs": [
        {
          "output_type": "stream",
          "name": "stdout",
          "text": [
            "FID between test samples and reconstructed samples: 522.0016\n"
          ]
        }
      ]
    },
    {
      "cell_type": "markdown",
      "source": [
        "پ)\n",
        "\n",
        "\n",
        "توضیح در مورد لایه ConvTranspose2d در مدل VAE\n",
        "\n",
        "لایه ConvTranspose2d (یا Transposed Convolution) یک لایه مهم در شبکه‌های عصبی برای آپ‌سمپلینگ (Upsampling) داده‌ها است. این لایه بر خلاف لایه معمولی Conv2d عمل می‌کند، که معمولاً برای کاهش ابعاد استفاده می‌شود. در ConvTranspose2d، هدف افزایش ابعاد داده است، که برای بازسازی تصویر در Decoder مدل‌هایی مانند VAE یا GAN استفاده می‌شود.\n",
        "نحوه عملکرد ConvTranspose2d\n",
        "\n",
        "ConvTranspose2d با استفاده از فیلترها و stride، مقادیر موجود در یک ورودی را به فضای بزرگ‌تر گسترش می‌دهد. این فرآیند شامل موارد زیر است:\n",
        "\n",
        "    اعمال کرنل‌ها: هر پچ از داده ورودی با کرنل تطبیق داده شده و گسترش می‌یابد.\n",
        "    stride: تعیین می‌کند که هر عنصر ورودی چقدر باید جابه‌جا شود تا خروجی بزرگ‌تر تولید شود.\n",
        "    padding: پیکسل‌های اضافی به ورودی اضافه می‌شوند تا کنترل بیشتری روی ابعاد خروجی داشته باشیم.\n",
        "    output_padding: این پارامتر برای تنظیم دقیق ابعاد خروجی استفاده می‌شود تا ابعاد موردنظر دقیقاً به‌دست بیاید.\n",
        "\n",
        "رابطه ریاضی برای محاسبه ابعاد خروجی\n",
        "\n",
        "فرمول محاسبه ابعاد خروجی در ConvTranspose2d به شرح زیر است:\n",
        "Hout=(Hin−1)×S−2P+K+output_padding\n",
        "Wout​=(Win​−1)×S−2P+K+output_padding\n",
        "\n",
        "    Hout,WoutHout​,Wout​: ارتفاع و عرض خروجی\n",
        "    Hin,WinHin​,Win​: ارتفاع و عرض ورودی\n",
        "    SS: stride (گام جابه‌جایی کرنل)\n",
        "    PP: padding (پد اضافه‌شده به ورودی)\n",
        "    KK: اندازه کرنل (kernel size)\n",
        "    output_padding: مقدار خروجی اضافی (معمولاً برای رسیدن به ابعاد خاص)\n",
        "    نقش ConvTranspose2d در مدل\n",
        "\n",
        "این لایه‌ها در Decoder مدل VAE برای بازسازی تصاویر MNIST به ابعاد اصلی (1,28,28)(1,28,28) استفاده می‌شوند. هر لایه به تدریج ابعاد داده را افزایش داده تا به تصویر اولیه نزدیک‌تر شود"
      ],
      "metadata": {
        "id": "pXEj91XMGKvD"
      }
    },
    {
      "cell_type": "markdown",
      "source": [
        "ج)\n",
        "\n",
        "مقدار 1.0 برای β یک انتخاب رایج است که برای تراز بین خطای بازسازی و ترجیحات KL Divergence مناسب است.\n",
        " تعداد 10 اپوک معمولاً برای شروع مناسب است و می‌تواند بر اساس معیارهایی مانند کاهش خطای آموزش یا نوسانات آن تغییر یابد.\n",
        "  مقدار 0.001 معمولاً برای الگوریتم بهینه‌سازی Adam مقدار خوبی است و در بسیاری از مسائل کاربرد دارد. این انتخاب می‌تواند با آزمایش مقادیر مختلف مانند 0.01، 0.0001 و غیره بهینه‌سازی شود تا بهترین عملکرد را پیدا کند."
      ],
      "metadata": {
        "id": "qgf2cwKeGVrc"
      }
    },
    {
      "cell_type": "markdown",
      "source": [
        "د)\n",
        "\n",
        "تصاویر بازسازی‌شده:\n",
        "\n",
        "    انتظار داریم تصاویر بازسازی‌شده شباهت بالایی به تصاویر اصلی داشته باشند.\n",
        "    ممکن است جزئیات ریز حذف یا به‌صورت ساده‌سازی‌شده نمایش داده شوند، زیرا VAE تمایل به یادگیری نمایش فشرده دارد.\n",
        "\n",
        "تصاویر تولیدشده:\n",
        "\n",
        "    تصاویر تولیدشده کاملاً جدید هستند و معمولاً ترکیبی از ویژگی‌های کلی داده‌های آموزشی را نشان می‌دهند.\n",
        "    ممکن است برخی تصاویر غیرواقعی یا ناواضح باشند، به‌ویژه اگر مدل به‌خوبی آموزش ندیده باشد یا ابعاد فضای نهفته نامناسب باشند"
      ],
      "metadata": {
        "id": "MUbD2brpIbwS"
      }
    },
    {
      "cell_type": "markdown",
      "source": [
        "ر)\n",
        "\n",
        "نحوه محاسبه FID:\n",
        "\n",
        "    محاسبه ویژگی‌ها با استفاده از Inception v3:\n",
        "        تصاویر واقعی و تولید شده به یک مدل Inception v3 داده می‌شوند تا ویژگی‌های استخراج شده از لایه‌های میانی (به‌ویژه لایه‌های پیشرفته) برای هر تصویر محاسبه شود.\n",
        "        این ویژگی‌ها به عنوان بردارهای ویژگی برای هر تصویر در نظر گرفته می‌شوند.\n",
        "\n",
        "    محاسبه میانگین و کوواریانس:\n",
        "        برای هر مجموعه ویژگی‌ها (ویژگی‌های تصاویر واقعی و تولید شده)، میانگین و ماتریس کوواریانس محاسبه می‌شود.\n",
        "\n",
        "    محاسبه فاصله Fréchet:\n",
        "        فاصله Fréchet بین دو توزیع گوسی محاسبه می‌شود که در آن میانگین‌ها و ماتریس‌های کوواریانس ویژگی‌ها به‌کار می‌روند.\n",
        "        فرمول FID به صورت زیر است:\n",
        "        FID=∥μ1−μ2∥2+Tr(Σ1+Σ2−2(Σ1Σ2)1/2)\n",
        "        FID=∥μ1​−μ2​∥2+Tr(Σ1​+Σ2​−2(Σ1​Σ2​)1/2) که در آن:\n",
        "            μ1μ1​ و μ2μ2​ میانگین‌های بردار ویژگی‌های تصاویر واقعی و تولید شده هستند.\n",
        "            Σ1Σ1​ و Σ2Σ2​ ماتریس‌های کوواریانس این ویژگی‌ها هستند.\n",
        "            TrTr عملگر رد (tracing) ماتریس است.\n",
        "\n",
        "  کاربرد FID در مدل‌های VAE:\n",
        "\n",
        "مدل Variational Autoencoder (VAE) می‌تواند برای تولید تصاویر استفاده شود، و FID می‌تواند برای ارزیابی کیفیت این تصاویر به‌کار رود. مدل‌های VAE معمولاً به دلیل محدودیت‌هایی که در طراحی دارند (مانند استفاده از فضای نهفته) ممکن است تصاویر تولید شده کیفیت کمتری نسبت به مدل‌های GAN داشته باشند. به همین دلیل، FID می‌تواند نشان دهد که مدل VAE چقدر در تولید تصاویر با کیفیت بالا موفق بوده است."
      ],
      "metadata": {
        "id": "c6JpQqNAIuJi"
      }
    },
    {
      "cell_type": "markdown",
      "source": [
        "و)\n",
        "\n",
        ". معیار FID (Fréchet Inception Distance)\n",
        "\n",
        "    تعریف: FID فاصله‌ای بین دو توزیع ویژگی‌های استخراج‌شده از تصاویر واقعی و تولید شده است. این معیار از مدل Inception Network برای استخراج ویژگی‌ها استفاده می‌کند.\n",
        "    چگونگی کارکرد: برای محاسبه FID، ویژگی‌های تصاویر واقعی و تولید شده با استفاده از لایه‌های میانه مدل Inception استخراج می‌شوند و سپس فاصله Fréchet بین دو توزیع نرمال (ویژگی‌ها) محاسبه می‌شود.\n",
        "    مفید بودن: FID معیاری بسیار محبوب برای سنجش کیفیت تصاویر تولید شده است و معمولاً برای مقایسه مدل‌ها با یکدیگر مورد استفاده قرار می‌گیرد. مقادیر پایین‌تر FID نشان‌دهنده کیفیت بهتر تصاویر تولید شده است.\n",
        "    مزایا: FID می‌تواند تفاوت‌های پیچیده بین توزیع‌های تصاویر واقعی و تولیدی را نشان دهد و نسبت به معیارهایی مانند IS حساس‌تر است.\n",
        "\n",
        "2. معیار IS (Inception Score)\n",
        "\n",
        "    تعریف: IS از مدل Inception Network برای محاسبه پیچیدگی و تنوع تصاویر تولید شده استفاده می‌کند. این معیار بررسی می‌کند که آیا تصاویر تولید شده قابل تشخیص هستند و به دسته‌بندی‌های خاصی تعلق دارند.\n",
        "    چگونگی کارکرد: IS بر اساس خروجی نرم‌افزار مدل Inception محاسبه می‌شود و برای هر تصویر، مقدار احتمال تعلق به هر کلاس را بررسی می‌کند. سپس انواع و پایداری این احتمال‌ها برای محاسبه IS مورد استفاده قرار می‌گیرد.\n",
        "    مفید بودن: IS نشان‌دهنده تنوع و کیفیت کلی تصاویر تولیدی است. مقادیر بالاتر IS نشان‌دهنده کیفیت بهتر و تنوع بیشتر تصاویر تولید شده است.\n",
        "    محدودیت‌ها: IS در برخی موارد می‌تواند اطلاعات کمی در مورد فاصله بین توزیع‌ها بدهد و ممکن است برای مقایسه مدل‌ها در شرایط مختلف ناپایدار باشد.\n",
        "\n",
        "3. مزایا و معایب مقایسه FID و IS\n",
        "\n",
        "    FID:\n",
        "        مزایا: به دلیل استفاده از فاصله Fréchet، FID دقیق‌تر و حساس‌تر به تفاوت‌های بین تصاویر واقعی و تولید شده است. همچنین، می‌تواند اطلاعاتی در مورد کیفیت تصاویر و هم‌ترازی توزیع‌ها بدهد.\n",
        "        معایب: برای محاسبه FID نیاز به مدل Inception پیش‌آموزش دیده شده دارید و این ممکن است محدودیت‌هایی از نظر سخت‌افزار و زمان محاسبه داشته باشد.\n",
        "    IS:\n",
        "        مزایا: ساده‌تر است و می‌تواند برای ارزیابی اولیه مدل‌ها استفاده شود. همچنین به راحتی قابل پیاده‌سازی است.\n",
        "        معایب: ممکن است ناپایدار باشد و اطلاعات محدودی در مورد فاصله واقعی بین توزیع‌ها بدهد. همچنین، ممکن است در ارزیابی مدل‌هایی با کیفیت پایین و کمبود تنوع، نتایج قابل اعتمادی ارائه ندهد.\n",
        "\n",
        "4. معیارهای دیگر\n",
        "\n",
        "برای ارزیابی مدل‌های VAE می‌توان از معیارهای دیگری مانند:\n",
        "\n",
        "    Perceptual Loss: بررسی شباهت بصری بین تصاویر واقعی و تولید شده با استفاده از شبکه‌های عصبی عمیق.\n",
        "    LPIPS (Learned Perceptual Image Patch Similarity): معیار دیگری برای سنجش کیفیت بصری که حساسیت بیشتری نسبت به تغییرات کوچک در تصاویر دارد."
      ],
      "metadata": {
        "id": "SHQJU_0kJRdM"
      }
    }
  ],
  "metadata": {
    "accelerator": "GPU",
    "colab": {
      "provenance": [],
      "gpuType": "T4"
    },
    "kernelspec": {
      "display_name": "Python 3",
      "name": "python3"
    },
    "language_info": {
      "codemirror_mode": {
        "name": "ipython",
        "version": 3
      },
      "file_extension": ".py",
      "mimetype": "text/x-python",
      "name": "python",
      "nbconvert_exporter": "python",
      "pygments_lexer": "ipython3",
      "version": "3.5.2"
    },
    "toc": {
      "base_numbering": "",
      "nav_menu": {},
      "number_sections": false,
      "sideBar": true,
      "skip_h1_title": false,
      "title_cell": "目次",
      "title_sidebar": "Contents",
      "toc_cell": false,
      "toc_position": {
        "height": "609px",
        "left": "385px",
        "top": "429px",
        "width": "288px"
      },
      "toc_section_display": true,
      "toc_window_display": false
    }
  },
  "nbformat": 4,
  "nbformat_minor": 0
}